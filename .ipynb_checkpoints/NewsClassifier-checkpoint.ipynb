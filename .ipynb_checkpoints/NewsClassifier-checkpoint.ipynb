{
 "cells": [
  {
   "cell_type": "code",
   "execution_count": 1,
   "metadata": {},
   "outputs": [
    {
     "name": "stderr",
     "output_type": "stream",
     "text": [
      "Downloading 20news dataset. This may take a few minutes.\n",
      "Downloading dataset from https://ndownloader.figshare.com/files/5975967 (14 MB)\n"
     ]
    },
    {
     "data": {
      "text/plain": [
       "['alt.atheism',\n",
       " 'comp.graphics',\n",
       " 'comp.os.ms-windows.misc',\n",
       " 'comp.sys.ibm.pc.hardware',\n",
       " 'comp.sys.mac.hardware',\n",
       " 'comp.windows.x',\n",
       " 'misc.forsale',\n",
       " 'rec.autos',\n",
       " 'rec.motorcycles',\n",
       " 'rec.sport.baseball',\n",
       " 'rec.sport.hockey',\n",
       " 'sci.crypt',\n",
       " 'sci.electronics',\n",
       " 'sci.med',\n",
       " 'sci.space',\n",
       " 'soc.religion.christian',\n",
       " 'talk.politics.guns',\n",
       " 'talk.politics.mideast',\n",
       " 'talk.politics.misc',\n",
       " 'talk.religion.misc']"
      ]
     },
     "execution_count": 1,
     "metadata": {},
     "output_type": "execute_result"
    }
   ],
   "source": [
    "#importing libraries\n",
    "import numpy as np\n",
    "import matplotlib.pyplot as plt\n",
    "import seaborn as sns;sns.set()\n",
    "from sklearn.datasets import fetch_20newsgroups\n",
    "%matplotlib inline\n",
    "data = fetch_20newsgroups()\n",
    "data.target_names"
   ]
  },
  {
   "cell_type": "code",
   "execution_count": 2,
   "metadata": {},
   "outputs": [
    {
     "name": "stdout",
     "output_type": "stream",
     "text": [
      "From: david@terminus.ericsson.se (David Bold)\n",
      "Subject: Re: Question for those with popular morality\n",
      "Reply-To: david@terminus.ericsson.se\n",
      "Distribution: world\n",
      "Organization: Camtec Electronics (Ericsson), Leicester, England\n",
      "Lines: 77\n",
      "Nntp-Posting-Host: bangkok\n",
      "\n",
      "In article 17570@freenet.carleton.ca, ad354@Freenet.carleton.ca (James Owens) writes:\n",
      ">\n",
      ">In a previous article, david@terminus.ericsson.se (David Bold) says:\n",
      ">\n",
      ">>\n",
      ">>I don't mean to be rude, but I think that you've got hold of the wrong\n",
      ">>end of a different stick...\n",
      ">>\n",
      ">>David\n",
      ">\n",
      ">I had a look at your posting again and I see what you mean!  I was so\n",
      ">intent on explaining how Jung thought we could be more moral than God that\n",
      ">I overlooked your main line of thought.\n",
      ">\n",
      ">You seem to be saying that, God being unknowable, His morality is unknowable.\n",
      "\n",
      "Yep, that's pretty much it. I'm not a Jew but I understand that this is the\n",
      "Jewish way of thinking. However, the Jews believe that the Covenant between\n",
      "YHWH and the Patriarchs (Abraham and Moses, in this case) establishes a Moral\n",
      "Code to follow for mankind. Even the Jews could not decide where the boundaries\n",
      "fall, though.\n",
      "\n",
      "As I understand it, the Sadducees believed that the Torah was all that was\n",
      "required, whereas the Pharisees (the ancestors of modern Judaism) believed that\n",
      "the Torah was available for interpretation to lead to an understanding of\n",
      "the required Morality in all its nuances (->Talmud).\n",
      "\n",
      "The essence of all of this is that Biblical Morality is an interface between\n",
      "Man and YHWH (for a Jew or Christian) and does not necessarily indicate\n",
      "anything about YHWH outside of that relationship (although one can speculate).\n",
      "\n",
      ">\n",
      ">The first thing that comes to mind is that man is supposed to be created\n",
      ">in His image, so there is an argument that we are committed to whatever\n",
      ">moral code He follows as part of trying to live up to that image.  If we\n",
      ">are supposed to live by Christ's example, you would be hard pressed to\n",
      ">argue that God is a \"do what I say, not what I do\" kind of guy.\n",
      "\n",
      "The trouble with all of this is that we don't really know what the \"created\n",
      "in His image\" means. I've heard a number of different opinions on this and\n",
      "have still not come to any conclusion. This rather upsets the Apple Cart if\n",
      "one wants to base a Life Script on this shaky foundation (to mix metaphors\n",
      "unashamedly!) As to living by Christ's example, we know very little about\n",
      "Jesus as a person. We only have his recorded utterances in a set of narratives\n",
      "by his followers, and some very small references from comtemporary historians.\n",
      "Revelation aside, one can only \"know\" Christ second-hand or worse.\n",
      "\n",
      "This is not an attempt to debunk Christianity (although it may seem that way\n",
      "initially), the point I`m trying to make is that we only really have the Bible\n",
      "to interpret, and that interpretation is by humanity. I guess this is where\n",
      "Faith or Relevation comes in with all its inherent subjectiveness.\n",
      "\n",
      ">\n",
      ">Metaphysically, if there are multiple moral codes then there is no\n",
      ">Absolute moral code, and I think this is theologically questionable.\n",
      "\n",
      "No. There may be an absolute moral code. There are undoubtably multiple\n",
      "moral codes. The multiple moral codes may be founded in the absolute moral\n",
      "code. As an example, a parent may tell a child never to swear, and the child\n",
      "may assume that the parent never swears simply because the parent has told\n",
      "the child that it is \"wrong\". Now, the parent may swear like a trooper in\n",
      "the pub or bar (where there are no children). The \"wrongness\" here is if\n",
      "the child disobeys the parent. The parent may feel that it is \"inappropriate\"\n",
      "to swear in front of children but may be quite happy to swear in front of\n",
      "animals. The analogy does not quite hold water because the child knows that\n",
      "he is of the same type as the parent (and may be a parent later in life) but\n",
      "you get the gist of it? Incidentally, the young child considers the directive\n",
      "as absolute until he gets older (see Piaget) and learns a morality of his own.\n",
      "\n",
      "David.\n",
      "\n",
      "---\n",
      "On religion:\n",
      "\n",
      "\"Oh, where is the sea?\", the fishes cried,\n",
      "As they swam its clearness through.\n",
      "\n",
      "\n"
     ]
    }
   ],
   "source": [
    "categories = data.target_names\n",
    "#Training the data on these categories\n",
    "train = fetch_20newsgroups(subset='train',categories=categories)\n",
    "#Testing the data on these categories\n",
    "test = fetch_20newsgroups(subset='test',categories=categories)\n",
    "print(train.data[11])"
   ]
  },
  {
   "cell_type": "code",
   "execution_count": 3,
   "metadata": {},
   "outputs": [],
   "source": [
    "#importing necessary packages\n"
   ]
  },
  {
   "cell_type": "code",
   "execution_count": null,
   "metadata": {},
   "outputs": [],
   "source": []
  }
 ],
 "metadata": {
  "kernelspec": {
   "display_name": "Python 3",
   "language": "python",
   "name": "python3"
  },
  "language_info": {
   "codemirror_mode": {
    "name": "ipython",
    "version": 3
   },
   "file_extension": ".py",
   "mimetype": "text/x-python",
   "name": "python",
   "nbconvert_exporter": "python",
   "pygments_lexer": "ipython3",
   "version": "3.7.3"
  }
 },
 "nbformat": 4,
 "nbformat_minor": 2
}
